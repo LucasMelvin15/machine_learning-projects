{
  "nbformat": 4,
  "nbformat_minor": 0,
  "metadata": {
    "colab": {
      "provenance": [],
      "authorship_tag": "ABX9TyPK0xlVpHfRjtTC6BXNqAdU",
      "include_colab_link": true
    },
    "kernelspec": {
      "name": "python3",
      "display_name": "Python 3"
    },
    "language_info": {
      "name": "python"
    }
  },
  "cells": [
    {
      "cell_type": "markdown",
      "metadata": {
        "id": "view-in-github",
        "colab_type": "text"
      },
      "source": [
        "<a href=\"https://colab.research.google.com/github/LucasMelvin15/machine_learning-projects/blob/main/01_Breast_Cancer_Wisconsin_(Diagnostic)_dataset_and_model.ipynb\" target=\"_parent\"><img src=\"https://colab.research.google.com/assets/colab-badge.svg\" alt=\"Open In Colab\"/></a>"
      ]
    },
    {
      "cell_type": "markdown",
      "source": [
        "##Load data"
      ],
      "metadata": {
        "id": "W7veOErCAdFB"
      }
    },
    {
      "cell_type": "code",
      "execution_count": null,
      "metadata": {
        "id": "ltmOGMv3T4TT"
      },
      "outputs": [],
      "source": [
        "from sklearn.datasets import load_breast_cancer\n",
        "\n",
        "#load data\n",
        "data = load_breast_cancer()\n",
        "X = data.data #features\n",
        "y = data.target #labels\n",
        "feature_names = data.feature_names\n",
        "target_names = data.target_names  # Target names (labels)\n",
        "\n"
      ]
    },
    {
      "cell_type": "code",
      "source": [
        "# check the shape\n",
        "print(\"Feature shape:\", X.shape) # 569 samples with 30 features\n",
        "print(\"Labels shape:\", y.shape) #569 labels corresponding to the number of samples"
      ],
      "metadata": {
        "colab": {
          "base_uri": "https://localhost:8080/"
        },
        "id": "j9x6yq2_W2i4",
        "outputId": "5b13dfc0-0f58-4c62-8b93-d4236836cf36"
      },
      "execution_count": null,
      "outputs": [
        {
          "output_type": "stream",
          "name": "stdout",
          "text": [
            "Feature shape: (569, 30)\n",
            "Labels shape: (569,)\n"
          ]
        }
      ]
    },
    {
      "cell_type": "code",
      "source": [
        "# print the first features\n",
        "print(f\"first 5 features: {X[:5]} \")\n",
        "print(f\"first 5 labels\\n:{y} \")\n",
        "print(f\"first 5 feature names\\n:{feature_names[:5]} \")"
      ],
      "metadata": {
        "colab": {
          "base_uri": "https://localhost:8080/"
        },
        "id": "26OpMQJRUln1",
        "outputId": "85247545-f0b8-4f35-a210-7743ecec24be"
      },
      "execution_count": null,
      "outputs": [
        {
          "output_type": "stream",
          "name": "stdout",
          "text": [
            "first 5 features: [[1.799e+01 1.038e+01 1.228e+02 1.001e+03 1.184e-01 2.776e-01 3.001e-01\n",
            "  1.471e-01 2.419e-01 7.871e-02 1.095e+00 9.053e-01 8.589e+00 1.534e+02\n",
            "  6.399e-03 4.904e-02 5.373e-02 1.587e-02 3.003e-02 6.193e-03 2.538e+01\n",
            "  1.733e+01 1.846e+02 2.019e+03 1.622e-01 6.656e-01 7.119e-01 2.654e-01\n",
            "  4.601e-01 1.189e-01]\n",
            " [2.057e+01 1.777e+01 1.329e+02 1.326e+03 8.474e-02 7.864e-02 8.690e-02\n",
            "  7.017e-02 1.812e-01 5.667e-02 5.435e-01 7.339e-01 3.398e+00 7.408e+01\n",
            "  5.225e-03 1.308e-02 1.860e-02 1.340e-02 1.389e-02 3.532e-03 2.499e+01\n",
            "  2.341e+01 1.588e+02 1.956e+03 1.238e-01 1.866e-01 2.416e-01 1.860e-01\n",
            "  2.750e-01 8.902e-02]\n",
            " [1.969e+01 2.125e+01 1.300e+02 1.203e+03 1.096e-01 1.599e-01 1.974e-01\n",
            "  1.279e-01 2.069e-01 5.999e-02 7.456e-01 7.869e-01 4.585e+00 9.403e+01\n",
            "  6.150e-03 4.006e-02 3.832e-02 2.058e-02 2.250e-02 4.571e-03 2.357e+01\n",
            "  2.553e+01 1.525e+02 1.709e+03 1.444e-01 4.245e-01 4.504e-01 2.430e-01\n",
            "  3.613e-01 8.758e-02]\n",
            " [1.142e+01 2.038e+01 7.758e+01 3.861e+02 1.425e-01 2.839e-01 2.414e-01\n",
            "  1.052e-01 2.597e-01 9.744e-02 4.956e-01 1.156e+00 3.445e+00 2.723e+01\n",
            "  9.110e-03 7.458e-02 5.661e-02 1.867e-02 5.963e-02 9.208e-03 1.491e+01\n",
            "  2.650e+01 9.887e+01 5.677e+02 2.098e-01 8.663e-01 6.869e-01 2.575e-01\n",
            "  6.638e-01 1.730e-01]\n",
            " [2.029e+01 1.434e+01 1.351e+02 1.297e+03 1.003e-01 1.328e-01 1.980e-01\n",
            "  1.043e-01 1.809e-01 5.883e-02 7.572e-01 7.813e-01 5.438e+00 9.444e+01\n",
            "  1.149e-02 2.461e-02 5.688e-02 1.885e-02 1.756e-02 5.115e-03 2.254e+01\n",
            "  1.667e+01 1.522e+02 1.575e+03 1.374e-01 2.050e-01 4.000e-01 1.625e-01\n",
            "  2.364e-01 7.678e-02]] \n",
            "first 5 labels\n",
            ":[0 0 0 0 0 0 0 0 0 0 0 0 0 0 0 0 0 0 0 1 1 1 0 0 0 0 0 0 0 0 0 0 0 0 0 0 0\n",
            " 1 0 0 0 0 0 0 0 0 1 0 1 1 1 1 1 0 0 1 0 0 1 1 1 1 0 1 0 0 1 1 1 1 0 1 0 0\n",
            " 1 0 1 0 0 1 1 1 0 0 1 0 0 0 1 1 1 0 1 1 0 0 1 1 1 0 0 1 1 1 1 0 1 1 0 1 1\n",
            " 1 1 1 1 1 1 0 0 0 1 0 0 1 1 1 0 0 1 0 1 0 0 1 0 0 1 1 0 1 1 0 1 1 1 1 0 1\n",
            " 1 1 1 1 1 1 1 1 0 1 1 1 1 0 0 1 0 1 1 0 0 1 1 0 0 1 1 1 1 0 1 1 0 0 0 1 0\n",
            " 1 0 1 1 1 0 1 1 0 0 1 0 0 0 0 1 0 0 0 1 0 1 0 1 1 0 1 0 0 0 0 1 1 0 0 1 1\n",
            " 1 0 1 1 1 1 1 0 0 1 1 0 1 1 0 0 1 0 1 1 1 1 0 1 1 1 1 1 0 1 0 0 0 0 0 0 0\n",
            " 0 0 0 0 0 0 0 1 1 1 1 1 1 0 1 0 1 1 0 1 1 0 1 0 0 1 1 1 1 1 1 1 1 1 1 1 1\n",
            " 1 0 1 1 0 1 0 1 1 1 1 1 1 1 1 1 1 1 1 1 1 0 1 1 1 0 1 0 1 1 1 1 0 0 0 1 1\n",
            " 1 1 0 1 0 1 0 1 1 1 0 1 1 1 1 1 1 1 0 0 0 1 1 1 1 1 1 1 1 1 1 1 0 0 1 0 0\n",
            " 0 1 0 0 1 1 1 1 1 0 1 1 1 1 1 0 1 1 1 0 1 1 0 0 1 1 1 1 1 1 0 1 1 1 1 1 1\n",
            " 1 0 1 1 1 1 1 0 1 1 0 1 1 1 1 1 1 1 1 1 1 1 1 0 1 0 0 1 0 1 1 1 1 1 0 1 1\n",
            " 0 1 0 1 1 0 1 0 1 1 1 1 1 1 1 1 0 0 1 1 1 1 1 1 0 1 1 1 1 1 1 1 1 1 1 0 1\n",
            " 1 1 1 1 1 1 0 1 0 1 1 0 1 1 1 1 1 0 0 1 0 1 0 1 1 1 1 1 0 1 1 0 1 0 1 0 0\n",
            " 1 1 1 0 1 1 1 1 1 1 1 1 1 1 1 0 1 0 0 1 1 1 1 1 1 1 1 1 1 1 1 1 1 1 1 1 1\n",
            " 1 1 1 1 1 1 1 0 0 0 0 0 0 1] \n",
            "first 5 feature names\n",
            ":['mean radius' 'mean texture' 'mean perimeter' 'mean area'\n",
            " 'mean smoothness'] \n"
          ]
        }
      ]
    },
    {
      "cell_type": "code",
      "source": [
        "# explore the dataset\n",
        "print(feature_names)"
      ],
      "metadata": {
        "colab": {
          "base_uri": "https://localhost:8080/"
        },
        "id": "qo91cHPZV2N8",
        "outputId": "557d6ae0-7eac-413c-9f7c-a1e67e68278f"
      },
      "execution_count": null,
      "outputs": [
        {
          "output_type": "stream",
          "name": "stdout",
          "text": [
            "['mean radius' 'mean texture' 'mean perimeter' 'mean area'\n",
            " 'mean smoothness' 'mean compactness' 'mean concavity'\n",
            " 'mean concave points' 'mean symmetry' 'mean fractal dimension'\n",
            " 'radius error' 'texture error' 'perimeter error' 'area error'\n",
            " 'smoothness error' 'compactness error' 'concavity error'\n",
            " 'concave points error' 'symmetry error' 'fractal dimension error'\n",
            " 'worst radius' 'worst texture' 'worst perimeter' 'worst area'\n",
            " 'worst smoothness' 'worst compactness' 'worst concavity'\n",
            " 'worst concave points' 'worst symmetry' 'worst fractal dimension']\n"
          ]
        }
      ]
    },
    {
      "cell_type": "markdown",
      "source": [
        "## Visualizing the data"
      ],
      "metadata": {
        "id": "cwQPSoXxAjDl"
      }
    },
    {
      "cell_type": "code",
      "source": [
        "# Make DataFrame of circle data\n",
        "import pandas as pd\n",
        "df = pd.DataFrame({\n",
        "    feature_names[0]: X[:, 0],\n",
        "    feature_names[1]: X[:, 1],\n",
        "    \"Label\": y\n",
        "})\n",
        "df[\"Label\"] = df[\"Label\"].map(lambda x: target_names[x])\n",
        "\n",
        "# Display the first 10 rows of the DataFrame\n",
        "print(df.head(10))"
      ],
      "metadata": {
        "colab": {
          "base_uri": "https://localhost:8080/"
        },
        "id": "Gw4D82BMZnuh",
        "outputId": "96984a23-3b8d-4998-d347-3a82d2848d7a"
      },
      "execution_count": null,
      "outputs": [
        {
          "output_type": "stream",
          "name": "stdout",
          "text": [
            "   mean radius  mean texture      Label\n",
            "0        17.99         10.38  malignant\n",
            "1        20.57         17.77  malignant\n",
            "2        19.69         21.25  malignant\n",
            "3        11.42         20.38  malignant\n",
            "4        20.29         14.34  malignant\n",
            "5        12.45         15.70  malignant\n",
            "6        18.25         19.98  malignant\n",
            "7        13.71         20.83  malignant\n",
            "8        13.00         21.82  malignant\n",
            "9        12.46         24.04  malignant\n"
          ]
        }
      ]
    },
    {
      "cell_type": "code",
      "source": [
        "print(list(y))"
      ],
      "metadata": {
        "colab": {
          "base_uri": "https://localhost:8080/"
        },
        "id": "8OwrhcgRaLbH",
        "outputId": "88009192-ef14-440b-c9df-552df3b0b871"
      },
      "execution_count": null,
      "outputs": [
        {
          "output_type": "stream",
          "name": "stdout",
          "text": [
            "[0, 0, 0, 0, 0, 0, 0, 0, 0, 0, 0, 0, 0, 0, 0, 0, 0, 0, 0, 1, 1, 1, 0, 0, 0, 0, 0, 0, 0, 0, 0, 0, 0, 0, 0, 0, 0, 1, 0, 0, 0, 0, 0, 0, 0, 0, 1, 0, 1, 1, 1, 1, 1, 0, 0, 1, 0, 0, 1, 1, 1, 1, 0, 1, 0, 0, 1, 1, 1, 1, 0, 1, 0, 0, 1, 0, 1, 0, 0, 1, 1, 1, 0, 0, 1, 0, 0, 0, 1, 1, 1, 0, 1, 1, 0, 0, 1, 1, 1, 0, 0, 1, 1, 1, 1, 0, 1, 1, 0, 1, 1, 1, 1, 1, 1, 1, 1, 0, 0, 0, 1, 0, 0, 1, 1, 1, 0, 0, 1, 0, 1, 0, 0, 1, 0, 0, 1, 1, 0, 1, 1, 0, 1, 1, 1, 1, 0, 1, 1, 1, 1, 1, 1, 1, 1, 1, 0, 1, 1, 1, 1, 0, 0, 1, 0, 1, 1, 0, 0, 1, 1, 0, 0, 1, 1, 1, 1, 0, 1, 1, 0, 0, 0, 1, 0, 1, 0, 1, 1, 1, 0, 1, 1, 0, 0, 1, 0, 0, 0, 0, 1, 0, 0, 0, 1, 0, 1, 0, 1, 1, 0, 1, 0, 0, 0, 0, 1, 1, 0, 0, 1, 1, 1, 0, 1, 1, 1, 1, 1, 0, 0, 1, 1, 0, 1, 1, 0, 0, 1, 0, 1, 1, 1, 1, 0, 1, 1, 1, 1, 1, 0, 1, 0, 0, 0, 0, 0, 0, 0, 0, 0, 0, 0, 0, 0, 0, 1, 1, 1, 1, 1, 1, 0, 1, 0, 1, 1, 0, 1, 1, 0, 1, 0, 0, 1, 1, 1, 1, 1, 1, 1, 1, 1, 1, 1, 1, 1, 0, 1, 1, 0, 1, 0, 1, 1, 1, 1, 1, 1, 1, 1, 1, 1, 1, 1, 1, 1, 0, 1, 1, 1, 0, 1, 0, 1, 1, 1, 1, 0, 0, 0, 1, 1, 1, 1, 0, 1, 0, 1, 0, 1, 1, 1, 0, 1, 1, 1, 1, 1, 1, 1, 0, 0, 0, 1, 1, 1, 1, 1, 1, 1, 1, 1, 1, 1, 0, 0, 1, 0, 0, 0, 1, 0, 0, 1, 1, 1, 1, 1, 0, 1, 1, 1, 1, 1, 0, 1, 1, 1, 0, 1, 1, 0, 0, 1, 1, 1, 1, 1, 1, 0, 1, 1, 1, 1, 1, 1, 1, 0, 1, 1, 1, 1, 1, 0, 1, 1, 0, 1, 1, 1, 1, 1, 1, 1, 1, 1, 1, 1, 1, 0, 1, 0, 0, 1, 0, 1, 1, 1, 1, 1, 0, 1, 1, 0, 1, 0, 1, 1, 0, 1, 0, 1, 1, 1, 1, 1, 1, 1, 1, 0, 0, 1, 1, 1, 1, 1, 1, 0, 1, 1, 1, 1, 1, 1, 1, 1, 1, 1, 0, 1, 1, 1, 1, 1, 1, 1, 0, 1, 0, 1, 1, 0, 1, 1, 1, 1, 1, 0, 0, 1, 0, 1, 0, 1, 1, 1, 1, 1, 0, 1, 1, 0, 1, 0, 1, 0, 0, 1, 1, 1, 0, 1, 1, 1, 1, 1, 1, 1, 1, 1, 1, 1, 0, 1, 0, 0, 1, 1, 1, 1, 1, 1, 1, 1, 1, 1, 1, 1, 1, 1, 1, 1, 1, 1, 1, 1, 1, 1, 1, 1, 1, 0, 0, 0, 0, 0, 0, 1]\n"
          ]
        }
      ]
    },
    {
      "cell_type": "code",
      "source": [
        "print(data.target_names)"
      ],
      "metadata": {
        "colab": {
          "base_uri": "https://localhost:8080/"
        },
        "id": "xUy3tgF2ahQ8",
        "outputId": "2ca5ad51-3229-4997-e738-4f85a6a9f4b7"
      },
      "execution_count": null,
      "outputs": [
        {
          "output_type": "stream",
          "name": "stdout",
          "text": [
            "['malignant' 'benign']\n"
          ]
        }
      ]
    },
    {
      "cell_type": "code",
      "source": [
        "# Create DataFrame with all features\n",
        "df_breast_cancer = pd.DataFrame(X, columns=feature_names)\n",
        "\n",
        "df_breast_cancer[\"Label\"] = y\n",
        "df_breast_cancer[\"Label\"] = df_breast_cancer[\"Label\"].map(lambda x: target_names[x])\n",
        "print(df_breast_cancer.head(10))"
      ],
      "metadata": {
        "colab": {
          "base_uri": "https://localhost:8080/"
        },
        "id": "D_Ln68wnbAdv",
        "outputId": "a1c54e29-dfd2-4455-a99a-58ee22bcfe13"
      },
      "execution_count": null,
      "outputs": [
        {
          "output_type": "stream",
          "name": "stdout",
          "text": [
            "   mean radius  mean texture  mean perimeter  mean area  mean smoothness  \\\n",
            "0        17.99         10.38          122.80     1001.0          0.11840   \n",
            "1        20.57         17.77          132.90     1326.0          0.08474   \n",
            "2        19.69         21.25          130.00     1203.0          0.10960   \n",
            "3        11.42         20.38           77.58      386.1          0.14250   \n",
            "4        20.29         14.34          135.10     1297.0          0.10030   \n",
            "5        12.45         15.70           82.57      477.1          0.12780   \n",
            "6        18.25         19.98          119.60     1040.0          0.09463   \n",
            "7        13.71         20.83           90.20      577.9          0.11890   \n",
            "8        13.00         21.82           87.50      519.8          0.12730   \n",
            "9        12.46         24.04           83.97      475.9          0.11860   \n",
            "\n",
            "   mean compactness  mean concavity  mean concave points  mean symmetry  \\\n",
            "0           0.27760         0.30010              0.14710         0.2419   \n",
            "1           0.07864         0.08690              0.07017         0.1812   \n",
            "2           0.15990         0.19740              0.12790         0.2069   \n",
            "3           0.28390         0.24140              0.10520         0.2597   \n",
            "4           0.13280         0.19800              0.10430         0.1809   \n",
            "5           0.17000         0.15780              0.08089         0.2087   \n",
            "6           0.10900         0.11270              0.07400         0.1794   \n",
            "7           0.16450         0.09366              0.05985         0.2196   \n",
            "8           0.19320         0.18590              0.09353         0.2350   \n",
            "9           0.23960         0.22730              0.08543         0.2030   \n",
            "\n",
            "   mean fractal dimension  ...  worst texture  worst perimeter  worst area  \\\n",
            "0                 0.07871  ...          17.33           184.60      2019.0   \n",
            "1                 0.05667  ...          23.41           158.80      1956.0   \n",
            "2                 0.05999  ...          25.53           152.50      1709.0   \n",
            "3                 0.09744  ...          26.50            98.87       567.7   \n",
            "4                 0.05883  ...          16.67           152.20      1575.0   \n",
            "5                 0.07613  ...          23.75           103.40       741.6   \n",
            "6                 0.05742  ...          27.66           153.20      1606.0   \n",
            "7                 0.07451  ...          28.14           110.60       897.0   \n",
            "8                 0.07389  ...          30.73           106.20       739.3   \n",
            "9                 0.08243  ...          40.68            97.65       711.4   \n",
            "\n",
            "   worst smoothness  worst compactness  worst concavity  worst concave points  \\\n",
            "0            0.1622             0.6656           0.7119                0.2654   \n",
            "1            0.1238             0.1866           0.2416                0.1860   \n",
            "2            0.1444             0.4245           0.4504                0.2430   \n",
            "3            0.2098             0.8663           0.6869                0.2575   \n",
            "4            0.1374             0.2050           0.4000                0.1625   \n",
            "5            0.1791             0.5249           0.5355                0.1741   \n",
            "6            0.1442             0.2576           0.3784                0.1932   \n",
            "7            0.1654             0.3682           0.2678                0.1556   \n",
            "8            0.1703             0.5401           0.5390                0.2060   \n",
            "9            0.1853             1.0580           1.1050                0.2210   \n",
            "\n",
            "   worst symmetry  worst fractal dimension      Label  \n",
            "0          0.4601                  0.11890  malignant  \n",
            "1          0.2750                  0.08902  malignant  \n",
            "2          0.3613                  0.08758  malignant  \n",
            "3          0.6638                  0.17300  malignant  \n",
            "4          0.2364                  0.07678  malignant  \n",
            "5          0.3985                  0.12440  malignant  \n",
            "6          0.3063                  0.08368  malignant  \n",
            "7          0.3196                  0.11510  malignant  \n",
            "8          0.4378                  0.10720  malignant  \n",
            "9          0.4366                  0.20750  malignant  \n",
            "\n",
            "[10 rows x 31 columns]\n"
          ]
        }
      ]
    },
    {
      "cell_type": "code",
      "source": [
        "# Check the distribution of different labels\n",
        "print(df_breast_cancer[\"Label\"].value_counts())\n"
      ],
      "metadata": {
        "colab": {
          "base_uri": "https://localhost:8080/"
        },
        "id": "fYfgmsofrF_G",
        "outputId": "881a08f1-1931-4d6b-fb55-b5ac3e473c57"
      },
      "execution_count": null,
      "outputs": [
        {
          "output_type": "stream",
          "name": "stdout",
          "text": [
            "Label\n",
            "benign       357\n",
            "malignant    212\n",
            "Name: count, dtype: int64\n"
          ]
        }
      ]
    },
    {
      "cell_type": "code",
      "source": [
        "import matplotlib.pyplot as plt\n",
        "\n",
        "# Check the distribution of different labels\n",
        "label_counts = df_breast_cancer[\"Label\"].value_counts()\n",
        "\n",
        "# Create a bar chart\n",
        "plt.figure(figsize=(8, 6))\n",
        "label_counts.plot(kind='bar', color=['#FF9999', '#66B3FF'])\n",
        "plt.title('Distribution of Breast Cancer Labels')\n",
        "plt.xlabel('Label')\n",
        "plt.ylabel('Count')\n",
        "plt.grid(axis='y', linestyle='--', alpha=0.7)\n",
        "plt.show()\n"
      ],
      "metadata": {
        "colab": {
          "base_uri": "https://localhost:8080/",
          "height": 620
        },
        "id": "UNya8YcKrWL2",
        "outputId": "e09ff9f7-3bfe-4383-de6b-2128428ff218"
      },
      "execution_count": null,
      "outputs": [
        {
          "output_type": "display_data",
          "data": {
            "text/plain": [
              "<Figure size 800x600 with 1 Axes>"
            ],
            "image/png": "[encoded data removed]"
          },
          "metadata": {}
        }
      ]
    },
    {
      "cell_type": "markdown",
      "source": [
        "2. Input shapes and output shapes"
      ],
      "metadata": {
        "id": "NhuOqCC2tHqD"
      }
    },
    {
      "cell_type": "code",
      "source": [
        "X.shape, y.shape"
      ],
      "metadata": {
        "colab": {
          "base_uri": "https://localhost:8080/"
        },
        "id": "2V8GSFJ9tBBx",
        "outputId": "a7fb7e0c-f54d-40e3-ccd9-84f87b58c7f0"
      },
      "execution_count": null,
      "outputs": [
        {
          "output_type": "execute_result",
          "data": {
            "text/plain": [
              "((569, 30), (569,))"
            ]
          },
          "metadata": {},
          "execution_count": 11
        }
      ]
    },
    {
      "cell_type": "code",
      "source": [
        "#view the first feature and labels\n",
        "X_sample = X[0]\n",
        "y_sample = y[0]\n",
        "\n",
        "print(f\"the values for one sample of x: {X_sample} and for y: {y_sample}\")\n",
        "print(f\"the values for one sample of x: {X_sample.shape} and for y: {y_sample.shape}\")"
      ],
      "metadata": {
        "colab": {
          "base_uri": "https://localhost:8080/"
        },
        "id": "SaNAho_AtZ_m",
        "outputId": "b254da3c-37e2-4f27-d6b5-1b5fb6bba4a2"
      },
      "execution_count": null,
      "outputs": [
        {
          "output_type": "stream",
          "name": "stdout",
          "text": [
            "the values for one sample of x: [1.799e+01 1.038e+01 1.228e+02 1.001e+03 1.184e-01 2.776e-01 3.001e-01\n",
            " 1.471e-01 2.419e-01 7.871e-02 1.095e+00 9.053e-01 8.589e+00 1.534e+02\n",
            " 6.399e-03 4.904e-02 5.373e-02 1.587e-02 3.003e-02 6.193e-03 2.538e+01\n",
            " 1.733e+01 1.846e+02 2.019e+03 1.622e-01 6.656e-01 7.119e-01 2.654e-01\n",
            " 4.601e-01 1.189e-01] and for y: 0\n",
            "the values for one sample of x: (30,) and for y: ()\n"
          ]
        }
      ]
    },
    {
      "cell_type": "markdown",
      "source": [
        "2.1 Turn data into tensors"
      ],
      "metadata": {
        "id": "En0oudetuhnW"
      }
    },
    {
      "cell_type": "code",
      "source": [
        "# Turn data into tensors\n",
        "\n",
        "import torch\n",
        "X = torch.from_numpy(X).type(torch.float)\n",
        "y = torch.from_numpy(y).type(torch.float)\n",
        "\n",
        "# View the first five samples\n",
        "X[:5], y[:5]"
      ],
      "metadata": {
        "colab": {
          "base_uri": "https://localhost:8080/"
        },
        "id": "ujSPRgpKug0F",
        "outputId": "8eef6051-8391-4100-db92-3fbd12c604a2"
      },
      "execution_count": null,
      "outputs": [
        {
          "output_type": "execute_result",
          "data": {
            "text/plain": [
              "(tensor([[1.7990e+01, 1.0380e+01, 1.2280e+02, 1.0010e+03, 1.1840e-01, 2.7760e-01,\n",
              "          3.0010e-01, 1.4710e-01, 2.4190e-01, 7.8710e-02, 1.0950e+00, 9.0530e-01,\n",
              "          8.5890e+00, 1.5340e+02, 6.3990e-03, 4.9040e-02, 5.3730e-02, 1.5870e-02,\n",
              "          3.0030e-02, 6.1930e-03, 2.5380e+01, 1.7330e+01, 1.8460e+02, 2.0190e+03,\n",
              "          1.6220e-01, 6.6560e-01, 7.1190e-01, 2.6540e-01, 4.6010e-01, 1.1890e-01],\n",
              "         [2.0570e+01, 1.7770e+01, 1.3290e+02, 1.3260e+03, 8.4740e-02, 7.8640e-02,\n",
              "          8.6900e-02, 7.0170e-02, 1.8120e-01, 5.6670e-02, 5.4350e-01, 7.3390e-01,\n",
              "          3.3980e+00, 7.4080e+01, 5.2250e-03, 1.3080e-02, 1.8600e-02, 1.3400e-02,\n",
              "          1.3890e-02, 3.5320e-03, 2.4990e+01, 2.3410e+01, 1.5880e+02, 1.9560e+03,\n",
              "          1.2380e-01, 1.8660e-01, 2.4160e-01, 1.8600e-01, 2.7500e-01, 8.9020e-02],\n",
              "         [1.9690e+01, 2.1250e+01, 1.3000e+02, 1.2030e+03, 1.0960e-01, 1.5990e-01,\n",
              "          1.9740e-01, 1.2790e-01, 2.0690e-01, 5.9990e-02, 7.4560e-01, 7.8690e-01,\n",
              "          4.5850e+00, 9.4030e+01, 6.1500e-03, 4.0060e-02, 3.8320e-02, 2.0580e-02,\n",
              "          2.2500e-02, 4.5710e-03, 2.3570e+01, 2.5530e+01, 1.5250e+02, 1.7090e+03,\n",
              "          1.4440e-01, 4.2450e-01, 4.5040e-01, 2.4300e-01, 3.6130e-01, 8.7580e-02],\n",
              "         [1.1420e+01, 2.0380e+01, 7.7580e+01, 3.8610e+02, 1.4250e-01, 2.8390e-01,\n",
              "          2.4140e-01, 1.0520e-01, 2.5970e-01, 9.7440e-02, 4.9560e-01, 1.1560e+00,\n",
              "          3.4450e+00, 2.7230e+01, 9.1100e-03, 7.4580e-02, 5.6610e-02, 1.8670e-02,\n",
              "          5.9630e-02, 9.2080e-03, 1.4910e+01, 2.6500e+01, 9.8870e+01, 5.6770e+02,\n",
              "          2.0980e-01, 8.6630e-01, 6.8690e-01, 2.5750e-01, 6.6380e-01, 1.7300e-01],\n",
              "         [2.0290e+01, 1.4340e+01, 1.3510e+02, 1.2970e+03, 1.0030e-01, 1.3280e-01,\n",
              "          1.9800e-01, 1.0430e-01, 1.8090e-01, 5.8830e-02, 7.5720e-01, 7.8130e-01,\n",
              "          5.4380e+00, 9.4440e+01, 1.1490e-02, 2.4610e-02, 5.6880e-02, 1.8850e-02,\n",
              "          1.7560e-02, 5.1150e-03, 2.2540e+01, 1.6670e+01, 1.5220e+02, 1.5750e+03,\n",
              "          1.3740e-01, 2.0500e-01, 4.0000e-01, 1.6250e-01, 2.3640e-01, 7.6780e-02]]),\n",
              " tensor([0., 0., 0., 0., 0.]))"
            ]
          },
          "metadata": {},
          "execution_count": 13
        }
      ]
    },
    {
      "cell_type": "code",
      "source": [
        "X.dtype, y.dtype"
      ],
      "metadata": {
        "colab": {
          "base_uri": "https://localhost:8080/"
        },
        "id": "YfbOu8kkutg3",
        "outputId": "ff3d983e-bbce-49e2-d5c0-9fb618fdb490"
      },
      "execution_count": null,
      "outputs": [
        {
          "output_type": "execute_result",
          "data": {
            "text/plain": [
              "(torch.float32, torch.float32)"
            ]
          },
          "metadata": {},
          "execution_count": 14
        }
      ]
    },
    {
      "cell_type": "markdown",
      "source": [
        "## Split into training and test sets"
      ],
      "metadata": {
        "id": "9VdarUhOGIVQ"
      }
    },
    {
      "cell_type": "code",
      "source": [
        "# Split data into train and test sets\n",
        "from sklearn.model_selection import train_test_split\n",
        "\n",
        "X_train, X_test, y_train, y_test = train_test_split(X,\n",
        "                                                    y,\n",
        "                                                    test_size=0.2, # 20% test, 80% train\n",
        "                                                    random_state=42) # make the random split reproducible\n",
        "\n",
        "len(X_train), len(X_test), len(y_train), len(y_test)"
      ],
      "metadata": {
        "colab": {
          "base_uri": "https://localhost:8080/"
        },
        "id": "UdGkPiQ0uv1l",
        "outputId": "5e48b3c5-fe54-403a-f4d2-0bba044fd6b4"
      },
      "execution_count": null,
      "outputs": [
        {
          "output_type": "execute_result",
          "data": {
            "text/plain": [
              "(455, 114, 455, 114)"
            ]
          },
          "metadata": {},
          "execution_count": 15
        }
      ]
    },
    {
      "cell_type": "code",
      "source": [
        "import torch\n",
        "import numpy as np\n",
        "\n",
        "X_train = torch.from_numpy(np.array(X)).type(torch.float) #handle the data and type\n",
        "y_train = torch.from_numpy(np.array(y)).type(torch.float)\n",
        "\n",
        "X_train[:5], y_train[:5]\n"
      ],
      "metadata": {
        "colab": {
          "base_uri": "https://localhost:8080/"
        },
        "id": "hRo7qX9OJjFY",
        "outputId": "d97213f8-86f7-4f47-eeca-d94b7eaf211c"
      },
      "execution_count": null,
      "outputs": [
        {
          "output_type": "execute_result",
          "data": {
            "text/plain": [
              "(tensor([[1.7990e+01, 1.0380e+01, 1.2280e+02, 1.0010e+03, 1.1840e-01, 2.7760e-01,\n",
              "          3.0010e-01, 1.4710e-01, 2.4190e-01, 7.8710e-02, 1.0950e+00, 9.0530e-01,\n",
              "          8.5890e+00, 1.5340e+02, 6.3990e-03, 4.9040e-02, 5.3730e-02, 1.5870e-02,\n",
              "          3.0030e-02, 6.1930e-03, 2.5380e+01, 1.7330e+01, 1.8460e+02, 2.0190e+03,\n",
              "          1.6220e-01, 6.6560e-01, 7.1190e-01, 2.6540e-01, 4.6010e-01, 1.1890e-01],\n",
              "         [2.0570e+01, 1.7770e+01, 1.3290e+02, 1.3260e+03, 8.4740e-02, 7.8640e-02,\n",
              "          8.6900e-02, 7.0170e-02, 1.8120e-01, 5.6670e-02, 5.4350e-01, 7.3390e-01,\n",
              "          3.3980e+00, 7.4080e+01, 5.2250e-03, 1.3080e-02, 1.8600e-02, 1.3400e-02,\n",
              "          1.3890e-02, 3.5320e-03, 2.4990e+01, 2.3410e+01, 1.5880e+02, 1.9560e+03,\n",
              "          1.2380e-01, 1.8660e-01, 2.4160e-01, 1.8600e-01, 2.7500e-01, 8.9020e-02],\n",
              "         [1.9690e+01, 2.1250e+01, 1.3000e+02, 1.2030e+03, 1.0960e-01, 1.5990e-01,\n",
              "          1.9740e-01, 1.2790e-01, 2.0690e-01, 5.9990e-02, 7.4560e-01, 7.8690e-01,\n",
              "          4.5850e+00, 9.4030e+01, 6.1500e-03, 4.0060e-02, 3.8320e-02, 2.0580e-02,\n",
              "          2.2500e-02, 4.5710e-03, 2.3570e+01, 2.5530e+01, 1.5250e+02, 1.7090e+03,\n",
              "          1.4440e-01, 4.2450e-01, 4.5040e-01, 2.4300e-01, 3.6130e-01, 8.7580e-02],\n",
              "         [1.1420e+01, 2.0380e+01, 7.7580e+01, 3.8610e+02, 1.4250e-01, 2.8390e-01,\n",
              "          2.4140e-01, 1.0520e-01, 2.5970e-01, 9.7440e-02, 4.9560e-01, 1.1560e+00,\n",
              "          3.4450e+00, 2.7230e+01, 9.1100e-03, 7.4580e-02, 5.6610e-02, 1.8670e-02,\n",
              "          5.9630e-02, 9.2080e-03, 1.4910e+01, 2.6500e+01, 9.8870e+01, 5.6770e+02,\n",
              "          2.0980e-01, 8.6630e-01, 6.8690e-01, 2.5750e-01, 6.6380e-01, 1.7300e-01],\n",
              "         [2.0290e+01, 1.4340e+01, 1.3510e+02, 1.2970e+03, 1.0030e-01, 1.3280e-01,\n",
              "          1.9800e-01, 1.0430e-01, 1.8090e-01, 5.8830e-02, 7.5720e-01, 7.8130e-01,\n",
              "          5.4380e+00, 9.4440e+01, 1.1490e-02, 2.4610e-02, 5.6880e-02, 1.8850e-02,\n",
              "          1.7560e-02, 5.1150e-03, 2.2540e+01, 1.6670e+01, 1.5220e+02, 1.5750e+03,\n",
              "          1.3740e-01, 2.0500e-01, 4.0000e-01, 1.6250e-01, 2.3640e-01, 7.6780e-02]]),\n",
              " tensor([0., 0., 0., 0., 0.]))"
            ]
          },
          "metadata": {},
          "execution_count": 51
        }
      ]
    },
    {
      "cell_type": "code",
      "source": [
        "X_train.dtype, y_train.dtype,X_test.dtype, y_test.dtype"
      ],
      "metadata": {
        "colab": {
          "base_uri": "https://localhost:8080/"
        },
        "id": "5xVjdgXALs4y",
        "outputId": "3a129acc-9161-4571-e718-7468b6fb8a7b"
      },
      "execution_count": null,
      "outputs": [
        {
          "output_type": "execute_result",
          "data": {
            "text/plain": [
              "(torch.float32, torch.float32, torch.float32, torch.float32)"
            ]
          },
          "metadata": {},
          "execution_count": 55
        }
      ]
    },
    {
      "cell_type": "code",
      "source": [
        "type(X_train), type(y_train), type(X_test), type(y_test)"
      ],
      "metadata": {
        "colab": {
          "base_uri": "https://localhost:8080/"
        },
        "id": "IrbTyZiuL6A3",
        "outputId": "05deefa5-fa46-41cb-f41a-5cb5a751fb2d"
      },
      "execution_count": null,
      "outputs": [
        {
          "output_type": "execute_result",
          "data": {
            "text/plain": [
              "(torch.Tensor, torch.Tensor, torch.Tensor, torch.Tensor)"
            ]
          },
          "metadata": {},
          "execution_count": 57
        }
      ]
    },
    {
      "cell_type": "markdown",
      "source": [
        "## 3. Building a model"
      ],
      "metadata": {
        "id": "wwkRgETKu_pE"
      }
    },
    {
      "cell_type": "code",
      "source": [
        "import torch\n",
        "from torch import nn\n",
        "\n",
        "# set up device agnostic code\n",
        "device = \"cuda\" if torch.cuda.is_available() else 'cpu'\n",
        "device"
      ],
      "metadata": {
        "colab": {
          "base_uri": "https://localhost:8080/",
          "height": 35
        },
        "id": "9BoXl7DEu70n",
        "outputId": "7f0b4526-f43d-4f18-fd38-1e31366c3084"
      },
      "execution_count": null,
      "outputs": [
        {
          "output_type": "execute_result",
          "data": {
            "text/plain": [
              "'cpu'"
            ],
            "application/vnd.google.colaboratory.intrinsic+json": {
              "type": "string"
            }
          },
          "metadata": {},
          "execution_count": 16
        }
      ]
    },
    {
      "cell_type": "code",
      "source": [
        "# 1. Construct a model class that subclasses nn.Module\n",
        "class BreastCancerModel0(nn.Module):\n",
        "    def __init__(self):\n",
        "        super().__init__()\n",
        "        # 2. Create 2 nn.Linear layers capable of handling X and y input and output shapes\n",
        "        self.layer_1 = nn.Linear(in_features=30, out_features=5) # takes in 2 features (X), produces 5 features\n",
        "        self.layer_2 = nn.Linear(in_features=5, out_features=1) # takes in 5 features, produces 1 feature (y)\n",
        "\n",
        "    # 3. Define a forward method containing the forward pass computation\n",
        "    def forward(self, x):\n",
        "       return self.layer_2(self.layer_1(x))\n"
      ],
      "metadata": {
        "id": "Zo66ONAgvmPX"
      },
      "execution_count": null,
      "outputs": []
    },
    {
      "cell_type": "code",
      "source": [
        "# 4. Create an instance of the model and send it to target device\n",
        "model_0 = BreastCancerModel0().to(device)\n",
        "model_0"
      ],
      "metadata": {
        "colab": {
          "base_uri": "https://localhost:8080/"
        },
        "id": "nnTYy8BCM4vK",
        "outputId": "ccd208d8-e7c3-4c81-f954-19c54f81d6e8"
      },
      "execution_count": null,
      "outputs": [
        {
          "output_type": "execute_result",
          "data": {
            "text/plain": [
              "BreastCancerModel0(\n",
              "  (layer_1): Linear(in_features=30, out_features=5, bias=True)\n",
              "  (layer_2): Linear(in_features=5, out_features=1, bias=True)\n",
              ")"
            ]
          },
          "metadata": {},
          "execution_count": 59
        }
      ]
    },
    {
      "cell_type": "code",
      "source": [
        "model_0.state_dict()"
      ],
      "metadata": {
        "colab": {
          "base_uri": "https://localhost:8080/"
        },
        "id": "afrTCT6xNi5b",
        "outputId": "c206c226-a404-4775-c1da-4cefcdff539c"
      },
      "execution_count": null,
      "outputs": [
        {
          "output_type": "execute_result",
          "data": {
            "text/plain": [
              "OrderedDict([('layer_1.weight',\n",
              "              tensor([[ 0.1396,  0.1515, -0.0428,  0.1677, -0.0400,  0.0368, -0.0889,  0.1072,\n",
              "                        0.1609, -0.1339,  0.1587,  0.0342,  0.1349,  0.0247,  0.0880, -0.0258,\n",
              "                        0.1407,  0.0270, -0.0852,  0.0465, -0.0841, -0.0214, -0.0742,  0.1211,\n",
              "                       -0.1441, -0.0842, -0.0516, -0.1098,  0.0172, -0.1803],\n",
              "                      [ 0.1649, -0.1551,  0.1410,  0.0304, -0.0593,  0.1128,  0.0285,  0.1475,\n",
              "                        0.0200, -0.0576,  0.0491, -0.0495,  0.0768,  0.1630,  0.1055, -0.0798,\n",
              "                        0.1054,  0.0327,  0.0927, -0.1113, -0.1807, -0.0705, -0.1400,  0.1498,\n",
              "                        0.0526,  0.0756,  0.0577, -0.0032,  0.1429, -0.1297],\n",
              "                      [ 0.0115, -0.1246,  0.0563, -0.0629,  0.0559, -0.0380,  0.1514, -0.1082,\n",
              "                       -0.1089, -0.1089,  0.1642,  0.0608,  0.1757, -0.1507, -0.1811, -0.1428,\n",
              "                       -0.1228,  0.0739,  0.0654,  0.1517, -0.0943, -0.1245,  0.0969, -0.0738,\n",
              "                        0.1108, -0.0433,  0.1044, -0.1419, -0.0921,  0.0557],\n",
              "                      [ 0.0386, -0.0465,  0.1088,  0.1241, -0.1324, -0.0975,  0.1672, -0.0616,\n",
              "                       -0.0647, -0.1767, -0.1046,  0.0456, -0.0241, -0.1325,  0.0043, -0.1247,\n",
              "                       -0.1549, -0.1005, -0.1598, -0.1163,  0.1825,  0.0345,  0.0563, -0.1703,\n",
              "                       -0.1199, -0.0608,  0.0285, -0.1607, -0.0787, -0.1093],\n",
              "                      [ 0.0005, -0.0679, -0.0127, -0.1237, -0.1253, -0.1065, -0.0625, -0.1441,\n",
              "                        0.1531, -0.0362,  0.1571,  0.0569, -0.1546,  0.1263, -0.0502, -0.0700,\n",
              "                       -0.1515, -0.1815,  0.0522, -0.0399,  0.0711, -0.1498,  0.1355, -0.1340,\n",
              "                       -0.0315,  0.0381,  0.0943,  0.1474,  0.1663, -0.1448]])),\n",
              "             ('layer_1.bias',\n",
              "              tensor([ 0.0459, -0.0785, -0.0200, -0.1367,  0.1663])),\n",
              "             ('layer_2.weight',\n",
              "              tensor([[-0.3282,  0.2390,  0.1572,  0.1453, -0.2418]])),\n",
              "             ('layer_2.bias', tensor([0.4065]))])"
            ]
          },
          "metadata": {},
          "execution_count": 60
        }
      ]
    },
    {
      "cell_type": "markdown",
      "source": [
        "## Make predictions\n",
        "with an untrained model"
      ],
      "metadata": {
        "id": "RUpdS6btBdf6"
      }
    },
    {
      "cell_type": "code",
      "source": [
        "#Make predictions with the model\n",
        "\n",
        "with torch.inference_mode():\n",
        "  untrained_preds = model_0(X_test)\n",
        "\n",
        "print(f\"Length of predictions: {len(untrained_preds)}, Shape: {untrained_preds.shape}\")\n",
        "print(f\"Length of test samples: {len(X_test)}, Shape: {X_test.shape}\")"
      ],
      "metadata": {
        "colab": {
          "base_uri": "https://localhost:8080/"
        },
        "id": "WrHmMR73v1Ut",
        "outputId": "e973ed95-ccd6-4b91-9867-389ad5955e6a"
      },
      "execution_count": null,
      "outputs": [
        {
          "output_type": "stream",
          "name": "stdout",
          "text": [
            "Length of predictions: 114, Shape: torch.Size([114, 1])\n",
            "Length of test samples: 114, Shape: torch.Size([114, 30])\n"
          ]
        }
      ]
    },
    {
      "cell_type": "code",
      "source": [
        "print(f\"first 10 predictions: \\n{torch.round(untrained_preds[:10])}\")\n",
        "print(f\"first 10 labels: \\n{y_test[:10]}\")"
      ],
      "metadata": {
        "colab": {
          "base_uri": "https://localhost:8080/"
        },
        "id": "20BjLLbFN1EU",
        "outputId": "4cf9898e-feb4-44f4-8ff7-608ce6ca26de"
      },
      "execution_count": null,
      "outputs": [
        {
          "output_type": "stream",
          "name": "stdout",
          "text": [
            "first 10 predictions: \n",
            "tensor([[ -8.],\n",
            "        [-25.],\n",
            "        [-15.],\n",
            "        [ -6.],\n",
            "        [ -5.],\n",
            "        [-26.],\n",
            "        [-32.],\n",
            "        [-17.],\n",
            "        [ -7.],\n",
            "        [ -9.]])\n",
            "first 10 labels: \n",
            "tensor([1., 0., 0., 1., 1., 0., 0., 0., 1., 1.])\n"
          ]
        }
      ]
    },
    {
      "cell_type": "markdown",
      "source": [
        "## set up a loss function and optimizer for training"
      ],
      "metadata": {
        "id": "WCuFbLjuBwTR"
      }
    },
    {
      "cell_type": "code",
      "source": [
        "# Set up a loss function and optimizer\n",
        "\n",
        "# Create a loss function\n",
        "loss_fn = nn.BCEWithLogitsLoss()\n",
        "\n",
        "# Create an optimizer\n",
        "optimizer = torch.optim.SGD(params=model_0.parameters(),\n",
        "                            lr=0.001)"
      ],
      "metadata": {
        "id": "nwutOLVYx0X0"
      },
      "execution_count": null,
      "outputs": []
    },
    {
      "cell_type": "code",
      "source": [
        "# Create an evaluation metric to calculate accuracy\n",
        "#compares the predictions to ground truth labels\n",
        "def accuracy_fn(y_true, y_pred):\n",
        "  correct = torch.eq(y_true, y_pred).sum().item()\n",
        "  acc = (correct/len(y_pred)) * 100\n",
        "  return acc"
      ],
      "metadata": {
        "id": "U1a0Q08ROrND"
      },
      "execution_count": null,
      "outputs": []
    },
    {
      "cell_type": "markdown",
      "source": [
        "## Make predictions on an untrained model"
      ],
      "metadata": {
        "id": "8_POp7NiPrMX"
      }
    },
    {
      "cell_type": "code",
      "source": [
        "\n",
        "#view the first outputs of the forward pass on the test data\n",
        "model_0.eval()\n",
        "with  torch.inference_mode():\n",
        "  y_logits = model_0(X_test)[:5]\n",
        "y_logits"
      ],
      "metadata": {
        "colab": {
          "base_uri": "https://localhost:8080/"
        },
        "id": "qABai-tCN-tz",
        "outputId": "105d694d-6fdd-47b9-913f-9ff1d4154367"
      },
      "execution_count": null,
      "outputs": [
        {
          "output_type": "execute_result",
          "data": {
            "text/plain": [
              "tensor([[-1.5092e-02],\n",
              "        [-1.7502e+01],\n",
              "        [-6.3829e+00],\n",
              "        [ 4.5275e+00],\n",
              "        [ 3.7352e+00]])"
            ]
          },
          "metadata": {},
          "execution_count": 71
        }
      ]
    },
    {
      "cell_type": "code",
      "source": [
        "y_test[:5]"
      ],
      "metadata": {
        "colab": {
          "base_uri": "https://localhost:8080/"
        },
        "id": "LwHaSOn0OHME",
        "outputId": "10553c23-fcc6-45bc-ff0a-ace8d96b7e9b"
      },
      "execution_count": null,
      "outputs": [
        {
          "output_type": "execute_result",
          "data": {
            "text/plain": [
              "tensor([1., 0., 0., 1., 1.])"
            ]
          },
          "metadata": {},
          "execution_count": 72
        }
      ]
    },
    {
      "cell_type": "code",
      "source": [
        "y_pred_probs = torch.sigmoid(y_logits)\n",
        "y_pred_probs"
      ],
      "metadata": {
        "colab": {
          "base_uri": "https://localhost:8080/"
        },
        "id": "nse4wiujOOet",
        "outputId": "f9c04c33-8b0f-4c15-a335-46f3405ae950"
      },
      "execution_count": null,
      "outputs": [
        {
          "output_type": "execute_result",
          "data": {
            "text/plain": [
              "tensor([[4.9623e-01],\n",
              "        [2.5062e-08],\n",
              "        [1.6874e-03],\n",
              "        [9.8931e-01],\n",
              "        [9.7669e-01]])"
            ]
          },
          "metadata": {},
          "execution_count": 73
        }
      ]
    },
    {
      "cell_type": "code",
      "source": [
        "# find the predicted labels\n",
        "y_preds = torch.round(y_pred_probs)\n",
        "\n",
        "#in full (logits -> predicted probabilities -> predicted lables)\n",
        "y_pred_labels = torch.round(torch.sigmoid(model_0(X_test)[:5]))\n",
        "\n",
        "#check for equality\n",
        "print(torch.eq(y_preds.squeeze(), y_pred_labels.squeeze()))\n",
        "\n",
        "#squeeze removes all dimensions of size 1\n",
        "y_preds.squeeze()"
      ],
      "metadata": {
        "colab": {
          "base_uri": "https://localhost:8080/"
        },
        "id": "u1365-xOOTmT",
        "outputId": "4d3b9418-bcef-4455-c8bc-1c942d2a51e0"
      },
      "execution_count": null,
      "outputs": [
        {
          "output_type": "stream",
          "name": "stdout",
          "text": [
            "tensor([True, True, True, True, True])\n"
          ]
        },
        {
          "output_type": "execute_result",
          "data": {
            "text/plain": [
              "tensor([0., 0., 0., 1., 1.])"
            ]
          },
          "metadata": {},
          "execution_count": 74
        }
      ]
    },
    {
      "cell_type": "markdown",
      "source": [
        "## 4.Create testing and training loops"
      ],
      "metadata": {
        "id": "uGu08C5YyrYP"
      }
    },
    {
      "cell_type": "code",
      "source": [
        "#set a random seed\n",
        "torch.manual_seed(42)\n",
        "\n",
        "# set the number of epochs\n",
        "epochs = 300\n",
        "\n",
        "#Building a training loop\n",
        "\n",
        "for epoch in range(epochs):\n",
        "  ### Training\n",
        "  model_0.train()\n",
        "\n",
        "  ###1. Forward pass\n",
        "  #model outputs raw logits\n",
        "  y_logits = model_0(X_train).squeeze()\n",
        "  y_preds = torch.round(torch.sigmoid(y_logits))\n",
        "\n",
        "  ### 2. calculate the loss\n",
        "  loss = loss_fn(y_logits,y_train) # nn.BCEWithLogitsLoss expects raw logits as input\n",
        "\n",
        "  acc = accuracy_fn(y_true=y_train,\n",
        "                     y_pred=y_preds)\n",
        "\n",
        "  ### 3.optimizer zero grad\n",
        "  optimizer.zero_grad()\n",
        "\n",
        "  ### 4. Backpropagation\n",
        "  loss.backward()\n",
        "\n",
        "  ### 5.optimizer step\n",
        "  optimizer.step()\n",
        "\n",
        "  ####testing\n",
        "  model_0.eval()\n",
        "  with torch.inference_mode():\n",
        "    # 1. Forward pass\n",
        "    test_logits = model_0(X_test).squeeze()\n",
        "    test_preds = torch.round(torch.sigmoid(test_logits))\n",
        "\n",
        "    # calculate loss/acc\n",
        "    test_loss = loss_fn(test_logits, y_test)\n",
        "    test_acc = accuracy_fn(y_true=y_test,\n",
        "                           y_pred=test_preds)\n",
        "\n",
        "    ##Print whats happening every 10 epochs\n",
        "    if epoch % 20 == 0:\n",
        "      print(f\"Epoch:{epoch} | Loss: {loss: .5f} | Accuracy: {acc: .2f}% | Test loss:{test_loss: .5f} | Test acc:{test_acc: .2f}%\")\n"
      ],
      "metadata": {
        "colab": {
          "base_uri": "https://localhost:8080/"
        },
        "id": "6_f9RlS7ObQ6",
        "outputId": "e48a9586-d2c4-4c9c-d571-3003dce07d53"
      },
      "execution_count": null,
      "outputs": [
        {
          "output_type": "stream",
          "name": "stdout",
          "text": [
            "Epoch:0 | Loss:  0.19730 | Accuracy:  92.27% | Test loss: 0.12290 | Test acc: 96.49%\n",
            "Epoch:20 | Loss:  0.19662 | Accuracy:  92.27% | Test loss: 0.12146 | Test acc: 96.49%\n",
            "Epoch:40 | Loss:  0.19603 | Accuracy:  92.27% | Test loss: 0.12022 | Test acc: 96.49%\n",
            "Epoch:60 | Loss:  0.19552 | Accuracy:  92.44% | Test loss: 0.11916 | Test acc: 97.37%\n",
            "Epoch:80 | Loss:  0.19507 | Accuracy:  92.44% | Test loss: 0.11823 | Test acc: 97.37%\n",
            "Epoch:100 | Loss:  0.19466 | Accuracy:  92.44% | Test loss: 0.11742 | Test acc: 97.37%\n",
            "Epoch:120 | Loss:  0.19430 | Accuracy:  92.44% | Test loss: 0.11670 | Test acc: 97.37%\n",
            "Epoch:140 | Loss:  0.19397 | Accuracy:  92.44% | Test loss: 0.11607 | Test acc: 97.37%\n",
            "Epoch:160 | Loss:  0.19366 | Accuracy:  92.44% | Test loss: 0.11551 | Test acc: 97.37%\n",
            "Epoch:180 | Loss:  0.19356 | Accuracy:  92.27% | Test loss: 0.11532 | Test acc: 97.37%\n",
            "Epoch:200 | Loss:  0.28215 | Accuracy:  88.75% | Test loss: 0.23558 | Test acc: 91.23%\n",
            "Epoch:220 | Loss:  0.19959 | Accuracy:  92.27% | Test loss: 0.12779 | Test acc: 97.37%\n",
            "Epoch:240 | Loss:  0.19741 | Accuracy:  92.62% | Test loss: 0.12493 | Test acc: 97.37%\n",
            "Epoch:260 | Loss:  0.19655 | Accuracy:  92.44% | Test loss: 0.12298 | Test acc: 97.37%\n",
            "Epoch:280 | Loss:  0.19585 | Accuracy:  92.44% | Test loss: 0.12135 | Test acc: 97.37%\n"
          ]
        }
      ]
    },
    {
      "cell_type": "markdown",
      "source": [
        "## Model evaluation"
      ],
      "metadata": {
        "id": "FJQxZLpwPloB"
      }
    },
    {
      "cell_type": "code",
      "source": [
        "import torch\n",
        "import torch.nn as nn\n",
        "\n",
        "# Define the updated accuracy function\n",
        "def accuracy_fn(y_true, y_pred):\n",
        "    correct = torch.eq(y_true, y_pred).sum().item()\n",
        "    acc = (correct / len(y_pred)) * 100\n",
        "    return acc\n",
        "\n",
        "# Ensure model is in evaluation mode\n",
        "model_0.eval()\n",
        "\n",
        "# No gradient calculation needed for evaluation\n",
        "with torch.no_grad():\n",
        "    # Forward pass on the test data\n",
        "    test_logits = model_0(X_test).squeeze()\n",
        "    test_preds = torch.round(torch.sigmoid(test_logits))\n",
        "\n",
        "    # Calculate test loss\n",
        "    test_loss = loss_fn(test_logits, y_test)\n",
        "\n",
        "    # Calculate test accuracy\n",
        "    test_acc = accuracy_fn(y_true=y_test, y_pred=test_preds)\n",
        "\n",
        "    # Print evaluation results\n",
        "    print(f\"Test Loss: {test_loss:.5f}\")\n",
        "    print(f\"Test Accuracy: {test_acc:.2f}%\")\n"
      ],
      "metadata": {
        "colab": {
          "base_uri": "https://localhost:8080/"
        },
        "id": "I6G-rQx2Ph50",
        "outputId": "126bd5f7-8189-4401-b51b-2bec397967bb"
      },
      "execution_count": null,
      "outputs": [
        {
          "output_type": "stream",
          "name": "stdout",
          "text": [
            "Test Loss: 0.12005\n",
            "Test Accuracy: 97.37%\n"
          ]
        }
      ]
    }
  ]
}